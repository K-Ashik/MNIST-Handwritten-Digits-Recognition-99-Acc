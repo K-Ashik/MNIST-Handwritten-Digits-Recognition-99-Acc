{
 "cells": [
  {
   "cell_type": "markdown",
   "id": "eefe6f18",
   "metadata": {
    "papermill": {
     "duration": 0.007643,
     "end_time": "2024-03-24T12:12:01.963948",
     "exception": false,
     "start_time": "2024-03-24T12:12:01.956305",
     "status": "completed"
    },
    "tags": []
   },
   "source": [
    "# Dataset Information\n",
    "This dataset allows you to study, analyze and recognize elements in the images. That’s exactly how your camera detects your face, using image recognition! It’s a digit recognition problem. This data set has 49,000 images of 28 X 28 size, totalling 49 MB."
   ]
  },
  {
   "cell_type": "markdown",
   "id": "f4a5829a",
   "metadata": {
    "papermill": {
     "duration": 0.007234,
     "end_time": "2024-03-24T12:12:01.978973",
     "exception": false,
     "start_time": "2024-03-24T12:12:01.971739",
     "status": "completed"
    },
    "tags": []
   },
   "source": [
    "# Import Modules"
   ]
  },
  {
   "cell_type": "code",
   "execution_count": 1,
   "id": "a2f20bfd",
   "metadata": {
    "execution": {
     "iopub.execute_input": "2024-03-24T12:12:01.995087Z",
     "iopub.status.busy": "2024-03-24T12:12:01.994712Z",
     "iopub.status.idle": "2024-03-24T12:12:16.446068Z",
     "shell.execute_reply": "2024-03-24T12:12:16.445039Z"
    },
    "papermill": {
     "duration": 14.462342,
     "end_time": "2024-03-24T12:12:16.448621",
     "exception": false,
     "start_time": "2024-03-24T12:12:01.986279",
     "status": "completed"
    },
    "tags": []
   },
   "outputs": [
    {
     "name": "stderr",
     "output_type": "stream",
     "text": [
      "2024-03-24 12:12:05.281057: E external/local_xla/xla/stream_executor/cuda/cuda_dnn.cc:9261] Unable to register cuDNN factory: Attempting to register factory for plugin cuDNN when one has already been registered\n",
      "2024-03-24 12:12:05.281147: E external/local_xla/xla/stream_executor/cuda/cuda_fft.cc:607] Unable to register cuFFT factory: Attempting to register factory for plugin cuFFT when one has already been registered\n",
      "2024-03-24 12:12:05.447054: E external/local_xla/xla/stream_executor/cuda/cuda_blas.cc:1515] Unable to register cuBLAS factory: Attempting to register factory for plugin cuBLAS when one has already been registered\n"
     ]
    }
   ],
   "source": [
    "import pandas as pd\n",
    "import numpy as np\n",
    "from tqdm.notebook import tqdm\n",
    "from keras.preprocessing.image import img_to_array, load_img\n",
    "import tensorflow as tf\n",
    "import matplotlib.pyplot as plt\n",
    "%matplotlib inline\n",
    "import warnings\n",
    "\n",
    "warnings.filterwarnings('ignore')"
   ]
  },
  {
   "cell_type": "markdown",
   "id": "04e1aea4",
   "metadata": {
    "papermill": {
     "duration": 0.006598,
     "end_time": "2024-03-24T12:12:16.462642",
     "exception": false,
     "start_time": "2024-03-24T12:12:16.456044",
     "status": "completed"
    },
    "tags": []
   },
   "source": [
    "# Unzip the train data"
   ]
  },
  {
   "cell_type": "code",
   "execution_count": 2,
   "id": "bc0ed25e",
   "metadata": {
    "execution": {
     "iopub.execute_input": "2024-03-24T12:12:16.478062Z",
     "iopub.status.busy": "2024-03-24T12:12:16.477494Z",
     "iopub.status.idle": "2024-03-24T12:12:16.481672Z",
     "shell.execute_reply": "2024-03-24T12:12:16.480821Z"
    },
    "papermill": {
     "duration": 0.014098,
     "end_time": "2024-03-24T12:12:16.483522",
     "exception": false,
     "start_time": "2024-03-24T12:12:16.469424",
     "status": "completed"
    },
    "tags": []
   },
   "outputs": [],
   "source": [
    "# !unzip Train_UQcUa52.zip "
   ]
  },
  {
   "cell_type": "code",
   "execution_count": 3,
   "id": "641f2db5",
   "metadata": {
    "execution": {
     "iopub.execute_input": "2024-03-24T12:12:16.498641Z",
     "iopub.status.busy": "2024-03-24T12:12:16.498374Z",
     "iopub.status.idle": "2024-03-24T12:12:16.551318Z",
     "shell.execute_reply": "2024-03-24T12:12:16.550426Z"
    },
    "papermill": {
     "duration": 0.063074,
     "end_time": "2024-03-24T12:12:16.553588",
     "exception": false,
     "start_time": "2024-03-24T12:12:16.490514",
     "status": "completed"
    },
    "tags": []
   },
   "outputs": [
    {
     "data": {
      "text/html": [
       "<div>\n",
       "<style scoped>\n",
       "    .dataframe tbody tr th:only-of-type {\n",
       "        vertical-align: middle;\n",
       "    }\n",
       "\n",
       "    .dataframe tbody tr th {\n",
       "        vertical-align: top;\n",
       "    }\n",
       "\n",
       "    .dataframe thead th {\n",
       "        text-align: right;\n",
       "    }\n",
       "</style>\n",
       "<table border=\"1\" class=\"dataframe\">\n",
       "  <thead>\n",
       "    <tr style=\"text-align: right;\">\n",
       "      <th></th>\n",
       "      <th>filename</th>\n",
       "      <th>label</th>\n",
       "    </tr>\n",
       "  </thead>\n",
       "  <tbody>\n",
       "    <tr>\n",
       "      <th>0</th>\n",
       "      <td>0.png</td>\n",
       "      <td>4</td>\n",
       "    </tr>\n",
       "    <tr>\n",
       "      <th>1</th>\n",
       "      <td>1.png</td>\n",
       "      <td>9</td>\n",
       "    </tr>\n",
       "    <tr>\n",
       "      <th>2</th>\n",
       "      <td>2.png</td>\n",
       "      <td>1</td>\n",
       "    </tr>\n",
       "    <tr>\n",
       "      <th>3</th>\n",
       "      <td>3.png</td>\n",
       "      <td>7</td>\n",
       "    </tr>\n",
       "    <tr>\n",
       "      <th>4</th>\n",
       "      <td>4.png</td>\n",
       "      <td>3</td>\n",
       "    </tr>\n",
       "  </tbody>\n",
       "</table>\n",
       "</div>"
      ],
      "text/plain": [
       "  filename  label\n",
       "0    0.png      4\n",
       "1    1.png      9\n",
       "2    2.png      1\n",
       "3    3.png      7\n",
       "4    4.png      3"
      ]
     },
     "execution_count": 3,
     "metadata": {},
     "output_type": "execute_result"
    }
   ],
   "source": [
    "df = pd.read_csv('/kaggle/input/mnist-hand-digit/train.csv')\n",
    "df.head()"
   ]
  },
  {
   "cell_type": "code",
   "execution_count": 4,
   "id": "34cbce65",
   "metadata": {
    "execution": {
     "iopub.execute_input": "2024-03-24T12:12:16.568949Z",
     "iopub.status.busy": "2024-03-24T12:12:16.568659Z",
     "iopub.status.idle": "2024-03-24T12:12:17.525120Z",
     "shell.execute_reply": "2024-03-24T12:12:17.524079Z"
    },
    "papermill": {
     "duration": 0.967015,
     "end_time": "2024-03-24T12:12:17.527826",
     "exception": false,
     "start_time": "2024-03-24T12:12:16.560811",
     "status": "completed"
    },
    "tags": []
   },
   "outputs": [
    {
     "name": "stdout",
     "output_type": "stream",
     "text": [
      "/kaggle/working\r\n"
     ]
    }
   ],
   "source": [
    "!pwd"
   ]
  },
  {
   "cell_type": "code",
   "execution_count": 5,
   "id": "6d9be5d9",
   "metadata": {
    "execution": {
     "iopub.execute_input": "2024-03-24T12:12:17.547452Z",
     "iopub.status.busy": "2024-03-24T12:12:17.546622Z",
     "iopub.status.idle": "2024-03-24T12:12:17.551405Z",
     "shell.execute_reply": "2024-03-24T12:12:17.550574Z"
    },
    "papermill": {
     "duration": 0.014939,
     "end_time": "2024-03-24T12:12:17.553291",
     "exception": false,
     "start_time": "2024-03-24T12:12:17.538352",
     "status": "completed"
    },
    "tags": []
   },
   "outputs": [],
   "source": [
    "image_path = '/kaggle/input/mnist-hand-digit/Images/train/'"
   ]
  },
  {
   "cell_type": "code",
   "execution_count": 6,
   "id": "55c94b22",
   "metadata": {
    "execution": {
     "iopub.execute_input": "2024-03-24T12:12:17.568871Z",
     "iopub.status.busy": "2024-03-24T12:12:17.568596Z",
     "iopub.status.idle": "2024-03-24T12:15:49.376832Z",
     "shell.execute_reply": "2024-03-24T12:15:49.375974Z"
    },
    "papermill": {
     "duration": 211.818928,
     "end_time": "2024-03-24T12:15:49.379399",
     "exception": false,
     "start_time": "2024-03-24T12:12:17.560471",
     "status": "completed"
    },
    "tags": []
   },
   "outputs": [
    {
     "name": "stderr",
     "output_type": "stream",
     "text": [
      "100%|██████████| 49000/49000 [03:31<00:00, 231.57it/s]\n"
     ]
    }
   ],
   "source": [
    "import numpy as np\n",
    "from tqdm import tqdm\n",
    "from PIL import Image\n",
    "from tensorflow.keras.preprocessing.image import img_to_array\n",
    "\n",
    "# Assuming df is your DataFrame containing filenames\n",
    "image_paths = [image_path + filename for filename in df['filename']]\n",
    "\n",
    "# Function to load and preprocess image\n",
    "def preprocess_image(image_path):\n",
    "    # Load image\n",
    "    img = Image.open(image_path)\n",
    "    # Convert to grayscale\n",
    "    img = img.convert('L')\n",
    "    # Resize to target size\n",
    "    img = img.resize((28, 28))\n",
    "    # Convert to numpy array\n",
    "    img_array = img_to_array(img)\n",
    "    return img_array\n",
    "\n",
    "# Load and preprocess images\n",
    "X = np.array([preprocess_image(image_path) for image_path in tqdm(image_paths)])\n",
    "X = X.astype('float32')\n"
   ]
  },
  {
   "cell_type": "code",
   "execution_count": 7,
   "id": "0b4332fb",
   "metadata": {
    "execution": {
     "iopub.execute_input": "2024-03-24T12:15:49.700382Z",
     "iopub.status.busy": "2024-03-24T12:15:49.699797Z",
     "iopub.status.idle": "2024-03-24T12:15:49.704398Z",
     "shell.execute_reply": "2024-03-24T12:15:49.703494Z"
    },
    "papermill": {
     "duration": 0.166273,
     "end_time": "2024-03-24T12:15:49.706414",
     "exception": false,
     "start_time": "2024-03-24T12:15:49.540141",
     "status": "completed"
    },
    "tags": []
   },
   "outputs": [],
   "source": [
    "y = df['label']"
   ]
  },
  {
   "cell_type": "code",
   "execution_count": 8,
   "id": "f3f90c51",
   "metadata": {
    "execution": {
     "iopub.execute_input": "2024-03-24T12:15:50.065011Z",
     "iopub.status.busy": "2024-03-24T12:15:50.064673Z",
     "iopub.status.idle": "2024-03-24T12:15:50.069549Z",
     "shell.execute_reply": "2024-03-24T12:15:50.068689Z"
    },
    "papermill": {
     "duration": 0.1902,
     "end_time": "2024-03-24T12:15:50.071376",
     "exception": false,
     "start_time": "2024-03-24T12:15:49.881176",
     "status": "completed"
    },
    "tags": []
   },
   "outputs": [
    {
     "name": "stdout",
     "output_type": "stream",
     "text": [
      "(49000, 28, 28, 1) (49000,)\n"
     ]
    }
   ],
   "source": [
    "print(X.shape, y.shape)"
   ]
  },
  {
   "cell_type": "markdown",
   "id": "c908d35a",
   "metadata": {
    "papermill": {
     "duration": 0.160805,
     "end_time": "2024-03-24T12:15:50.392071",
     "exception": false,
     "start_time": "2024-03-24T12:15:50.231266",
     "status": "completed"
    },
    "tags": []
   },
   "source": [
    "# Exploratory Data Analysis"
   ]
  },
  {
   "cell_type": "code",
   "execution_count": 9,
   "id": "2becb35d",
   "metadata": {
    "execution": {
     "iopub.execute_input": "2024-03-24T12:15:50.716944Z",
     "iopub.status.busy": "2024-03-24T12:15:50.716504Z",
     "iopub.status.idle": "2024-03-24T12:15:51.010614Z",
     "shell.execute_reply": "2024-03-24T12:15:51.009615Z"
    },
    "papermill": {
     "duration": 0.459717,
     "end_time": "2024-03-24T12:15:51.012707",
     "exception": false,
     "start_time": "2024-03-24T12:15:50.552990",
     "status": "completed"
    },
    "tags": []
   },
   "outputs": [
    {
     "name": "stdout",
     "output_type": "stream",
     "text": [
      "4\n"
     ]
    },
    {
     "data": {
      "text/plain": [
       "<matplotlib.image.AxesImage at 0x7d0183a1c7f0>"
      ]
     },
     "execution_count": 9,
     "metadata": {},
     "output_type": "execute_result"
    },
    {
     "data": {
      "image/png": "[encoded data removed]",
      "text/plain": [
       "<Figure size 640x480 with 1 Axes>"
      ]
     },
     "metadata": {},
     "output_type": "display_data"
    }
   ],
   "source": [
    "image_index = 0\n",
    "print(y[image_index])\n",
    "plt.imshow(X[image_index].reshape(28,28), cmap='Greys')"
   ]
  },
  {
   "cell_type": "code",
   "execution_count": 10,
   "id": "494be56f",
   "metadata": {
    "execution": {
     "iopub.execute_input": "2024-03-24T12:15:51.348651Z",
     "iopub.status.busy": "2024-03-24T12:15:51.348241Z",
     "iopub.status.idle": "2024-03-24T12:15:51.608601Z",
     "shell.execute_reply": "2024-03-24T12:15:51.607687Z"
    },
    "papermill": {
     "duration": 0.430223,
     "end_time": "2024-03-24T12:15:51.610568",
     "exception": false,
     "start_time": "2024-03-24T12:15:51.180345",
     "status": "completed"
    },
    "tags": []
   },
   "outputs": [
    {
     "name": "stdout",
     "output_type": "stream",
     "text": [
      "2\n"
     ]
    },
    {
     "data": {
      "text/plain": [
       "<matplotlib.image.AxesImage at 0x7d01835198a0>"
      ]
     },
     "execution_count": 10,
     "metadata": {},
     "output_type": "execute_result"
    },
    {
     "data": {
      "image/png": "[encoded data removed]",
      "text/plain": [
       "<Figure size 640x480 with 1 Axes>"
      ]
     },
     "metadata": {},
     "output_type": "display_data"
    }
   ],
   "source": [
    "image_index = 10\n",
    "print(y[image_index])\n",
    "plt.imshow(X[image_index].reshape(28,28), cmap='Greys')"
   ]
  },
  {
   "cell_type": "code",
   "execution_count": 11,
   "id": "03610608",
   "metadata": {
    "execution": {
     "iopub.execute_input": "2024-03-24T12:15:51.934566Z",
     "iopub.status.busy": "2024-03-24T12:15:51.934218Z",
     "iopub.status.idle": "2024-03-24T12:15:52.195303Z",
     "shell.execute_reply": "2024-03-24T12:15:52.194318Z"
    },
    "papermill": {
     "duration": 0.425008,
     "end_time": "2024-03-24T12:15:52.197458",
     "exception": false,
     "start_time": "2024-03-24T12:15:51.772450",
     "status": "completed"
    },
    "tags": []
   },
   "outputs": [
    {
     "name": "stdout",
     "output_type": "stream",
     "text": [
      "7\n"
     ]
    },
    {
     "data": {
      "text/plain": [
       "<matplotlib.image.AxesImage at 0x7d0183892a40>"
      ]
     },
     "execution_count": 11,
     "metadata": {},
     "output_type": "execute_result"
    },
    {
     "data": {
      "image/png": "[encoded data removed]",
      "text/plain": [
       "<Figure size 640x480 with 1 Axes>"
      ]
     },
     "metadata": {},
     "output_type": "display_data"
    }
   ],
   "source": [
    "image_index = 100\n",
    "print(y[image_index])\n",
    "plt.imshow(X[image_index].reshape(28,28), cmap='Greys')"
   ]
  },
  {
   "cell_type": "markdown",
   "id": "2049869b",
   "metadata": {
    "papermill": {
     "duration": 0.161297,
     "end_time": "2024-03-24T12:15:52.525744",
     "exception": false,
     "start_time": "2024-03-24T12:15:52.364447",
     "status": "completed"
    },
    "tags": []
   },
   "source": [
    "# Train-Test Split"
   ]
  },
  {
   "cell_type": "code",
   "execution_count": 12,
   "id": "d183d241",
   "metadata": {
    "execution": {
     "iopub.execute_input": "2024-03-24T12:15:52.854414Z",
     "iopub.status.busy": "2024-03-24T12:15:52.853537Z",
     "iopub.status.idle": "2024-03-24T12:15:54.143221Z",
     "shell.execute_reply": "2024-03-24T12:15:54.142341Z"
    },
    "papermill": {
     "duration": 1.457463,
     "end_time": "2024-03-24T12:15:54.145801",
     "exception": false,
     "start_time": "2024-03-24T12:15:52.688338",
     "status": "completed"
    },
    "tags": []
   },
   "outputs": [],
   "source": [
    "from sklearn.model_selection import train_test_split\n",
    "x_train, x_test, y_train, y_test = train_test_split(X, y, test_size=0.25, random_state=42, stratify=np.array(y))\n"
   ]
  },
  {
   "cell_type": "markdown",
   "id": "23280a75",
   "metadata": {
    "papermill": {
     "duration": 0.162954,
     "end_time": "2024-03-24T12:15:54.487753",
     "exception": false,
     "start_time": "2024-03-24T12:15:54.324799",
     "status": "completed"
    },
    "tags": []
   },
   "source": [
    "# Normalization"
   ]
  },
  {
   "cell_type": "code",
   "execution_count": 13,
   "id": "3068ae4c",
   "metadata": {
    "execution": {
     "iopub.execute_input": "2024-03-24T12:15:54.882542Z",
     "iopub.status.busy": "2024-03-24T12:15:54.881613Z",
     "iopub.status.idle": "2024-03-24T12:15:54.900194Z",
     "shell.execute_reply": "2024-03-24T12:15:54.899276Z"
    },
    "papermill": {
     "duration": 0.186106,
     "end_time": "2024-03-24T12:15:54.902250",
     "exception": false,
     "start_time": "2024-03-24T12:15:54.716144",
     "status": "completed"
    },
    "tags": []
   },
   "outputs": [],
   "source": [
    "x_train /= 255\n",
    "x_test /= 255"
   ]
  },
  {
   "cell_type": "markdown",
   "id": "afbcd85a",
   "metadata": {
    "papermill": {
     "duration": 0.16166,
     "end_time": "2024-03-24T12:15:55.226419",
     "exception": false,
     "start_time": "2024-03-24T12:15:55.064759",
     "status": "completed"
    },
    "tags": []
   },
   "source": [
    "# Model Creation"
   ]
  },
  {
   "cell_type": "code",
   "execution_count": 14,
   "id": "72acc774",
   "metadata": {
    "execution": {
     "iopub.execute_input": "2024-03-24T12:15:55.551910Z",
     "iopub.status.busy": "2024-03-24T12:15:55.551072Z",
     "iopub.status.idle": "2024-03-24T12:15:55.555609Z",
     "shell.execute_reply": "2024-03-24T12:15:55.554782Z"
    },
    "papermill": {
     "duration": 0.168742,
     "end_time": "2024-03-24T12:15:55.557435",
     "exception": false,
     "start_time": "2024-03-24T12:15:55.388693",
     "status": "completed"
    },
    "tags": []
   },
   "outputs": [],
   "source": [
    "input_shape = (28,28,1)\n",
    "output_class = 10"
   ]
  },
  {
   "cell_type": "code",
   "execution_count": 15,
   "id": "a9d8dba4",
   "metadata": {
    "execution": {
     "iopub.execute_input": "2024-03-24T12:15:55.878473Z",
     "iopub.status.busy": "2024-03-24T12:15:55.877663Z",
     "iopub.status.idle": "2024-03-24T12:15:56.839715Z",
     "shell.execute_reply": "2024-03-24T12:15:56.838955Z"
    },
    "papermill": {
     "duration": 1.125384,
     "end_time": "2024-03-24T12:15:56.841989",
     "exception": false,
     "start_time": "2024-03-24T12:15:55.716605",
     "status": "completed"
    },
    "tags": []
   },
   "outputs": [],
   "source": [
    "from keras.models import Sequential\n",
    "from keras.layers import Dense, Conv2D, Dropout, Flatten, MaxPooling2D\n",
    "\n",
    "# Define input shape\n",
    "input_shape = (28, 28, 1)  # Assuming your input images are grayscale with size 28x28\n",
    "\n",
    "# Define the number of output classes\n",
    "output_class = 10  # Change this according to your problem\n",
    "\n",
    "# Define the model\n",
    "model = Sequential()\n",
    "model.add(Conv2D(28, kernel_size=(3,3), input_shape=input_shape))\n",
    "model.add(MaxPooling2D(pool_size=(2,2)))\n",
    "model.add(Flatten())\n",
    "model.add(Dense(128, activation='relu'))\n",
    "model.add(Dropout(0.3))\n",
    "model.add(Dense(output_class, activation='softmax'))\n",
    "\n",
    "# Compile the model\n",
    "model.compile(optimizer='adam', loss='sparse_categorical_crossentropy', metrics=['accuracy'])\n"
   ]
  },
  {
   "cell_type": "markdown",
   "id": "7eee1056",
   "metadata": {
    "papermill": {
     "duration": 0.16401,
     "end_time": "2024-03-24T12:15:57.166808",
     "exception": false,
     "start_time": "2024-03-24T12:15:57.002798",
     "status": "completed"
    },
    "tags": []
   },
   "source": [
    "# train the model"
   ]
  },
  {
   "cell_type": "code",
   "execution_count": 16,
   "id": "aeeff72f",
   "metadata": {
    "execution": {
     "iopub.execute_input": "2024-03-24T12:15:57.498093Z",
     "iopub.status.busy": "2024-03-24T12:15:57.497756Z",
     "iopub.status.idle": "2024-03-24T12:17:29.858227Z",
     "shell.execute_reply": "2024-03-24T12:17:29.857293Z"
    },
    "papermill": {
     "duration": 92.527768,
     "end_time": "2024-03-24T12:17:29.860101",
     "exception": false,
     "start_time": "2024-03-24T12:15:57.332333",
     "status": "completed"
    },
    "tags": []
   },
   "outputs": [
    {
     "name": "stdout",
     "output_type": "stream",
     "text": [
      "Epoch 1/30\n",
      "\u001b[1m  85/1149\u001b[0m \u001b[32m━\u001b[0m\u001b[37m━━━━━━━━━━━━━━━━━━━\u001b[0m \u001b[1m1s\u001b[0m 2ms/step - accuracy: 0.6205 - loss: 1.2154"
     ]
    },
    {
     "name": "stderr",
     "output_type": "stream",
     "text": [
      "WARNING: All log messages before absl::InitializeLog() is called are written to STDERR\n",
      "I0000 00:00:1711282562.918247      80 device_compiler.h:186] Compiled cluster using XLA!  This line is logged at most once for the lifetime of the process.\n",
      "W0000 00:00:1711282562.935842      80 graph_launch.cc:671] Fallback to op-by-op mode because memset node breaks graph update\n"
     ]
    },
    {
     "name": "stdout",
     "output_type": "stream",
     "text": [
      "\u001b[1m1149/1149\u001b[0m \u001b[32m━━━━━━━━━━━━━━━━━━━━\u001b[0m\u001b[37m\u001b[0m \u001b[1m0s\u001b[0m 4ms/step - accuracy: 0.8590 - loss: 0.4629"
     ]
    },
    {
     "name": "stderr",
     "output_type": "stream",
     "text": [
      "W0000 00:00:1711282567.478725      80 graph_launch.cc:671] Fallback to op-by-op mode because memset node breaks graph update\n",
      "W0000 00:00:1711282568.173368      81 graph_launch.cc:671] Fallback to op-by-op mode because memset node breaks graph update\n"
     ]
    },
    {
     "name": "stdout",
     "output_type": "stream",
     "text": [
      "\u001b[1m1149/1149\u001b[0m \u001b[32m━━━━━━━━━━━━━━━━━━━━\u001b[0m\u001b[37m\u001b[0m \u001b[1m11s\u001b[0m 6ms/step - accuracy: 0.8591 - loss: 0.4627 - val_accuracy: 0.9659 - val_loss: 0.1141\n",
      "Epoch 2/30\n",
      "\u001b[1m1149/1149\u001b[0m \u001b[32m━━━━━━━━━━━━━━━━━━━━\u001b[0m\u001b[37m\u001b[0m \u001b[1m3s\u001b[0m 2ms/step - accuracy: 0.9635 - loss: 0.1264 - val_accuracy: 0.9750 - val_loss: 0.0822\n",
      "Epoch 3/30\n",
      "\u001b[1m1149/1149\u001b[0m \u001b[32m━━━━━━━━━━━━━━━━━━━━\u001b[0m\u001b[37m\u001b[0m \u001b[1m3s\u001b[0m 2ms/step - accuracy: 0.9733 - loss: 0.0808 - val_accuracy: 0.9771 - val_loss: 0.0737\n",
      "Epoch 4/30\n",
      "\u001b[1m1149/1149\u001b[0m \u001b[32m━━━━━━━━━━━━━━━━━━━━\u001b[0m\u001b[37m\u001b[0m \u001b[1m3s\u001b[0m 2ms/step - accuracy: 0.9791 - loss: 0.0625 - val_accuracy: 0.9795 - val_loss: 0.0682\n",
      "Epoch 5/30\n",
      "\u001b[1m1149/1149\u001b[0m \u001b[32m━━━━━━━━━━━━━━━━━━━━\u001b[0m\u001b[37m\u001b[0m \u001b[1m3s\u001b[0m 2ms/step - accuracy: 0.9854 - loss: 0.0462 - val_accuracy: 0.9802 - val_loss: 0.0684\n",
      "Epoch 6/30\n",
      "\u001b[1m1149/1149\u001b[0m \u001b[32m━━━━━━━━━━━━━━━━━━━━\u001b[0m\u001b[37m\u001b[0m \u001b[1m3s\u001b[0m 2ms/step - accuracy: 0.9880 - loss: 0.0385 - val_accuracy: 0.9819 - val_loss: 0.0648\n",
      "Epoch 7/30\n",
      "\u001b[1m1149/1149\u001b[0m \u001b[32m━━━━━━━━━━━━━━━━━━━━\u001b[0m\u001b[37m\u001b[0m \u001b[1m3s\u001b[0m 2ms/step - accuracy: 0.9895 - loss: 0.0313 - val_accuracy: 0.9797 - val_loss: 0.0750\n",
      "Epoch 8/30\n",
      "\u001b[1m1149/1149\u001b[0m \u001b[32m━━━━━━━━━━━━━━━━━━━━\u001b[0m\u001b[37m\u001b[0m \u001b[1m3s\u001b[0m 2ms/step - accuracy: 0.9892 - loss: 0.0322 - val_accuracy: 0.9802 - val_loss: 0.0682\n",
      "Epoch 9/30\n",
      "\u001b[1m1149/1149\u001b[0m \u001b[32m━━━━━━━━━━━━━━━━━━━━\u001b[0m\u001b[37m\u001b[0m \u001b[1m3s\u001b[0m 2ms/step - accuracy: 0.9904 - loss: 0.0270 - val_accuracy: 0.9807 - val_loss: 0.0730\n",
      "Epoch 10/30\n",
      "\u001b[1m1149/1149\u001b[0m \u001b[32m━━━━━━━━━━━━━━━━━━━━\u001b[0m\u001b[37m\u001b[0m \u001b[1m3s\u001b[0m 2ms/step - accuracy: 0.9920 - loss: 0.0243 - val_accuracy: 0.9824 - val_loss: 0.0736\n",
      "Epoch 11/30\n",
      "\u001b[1m1149/1149\u001b[0m \u001b[32m━━━━━━━━━━━━━━━━━━━━\u001b[0m\u001b[37m\u001b[0m \u001b[1m3s\u001b[0m 2ms/step - accuracy: 0.9918 - loss: 0.0227 - val_accuracy: 0.9829 - val_loss: 0.0650\n",
      "Epoch 12/30\n",
      "\u001b[1m1149/1149\u001b[0m \u001b[32m━━━━━━━━━━━━━━━━━━━━\u001b[0m\u001b[37m\u001b[0m \u001b[1m3s\u001b[0m 2ms/step - accuracy: 0.9926 - loss: 0.0217 - val_accuracy: 0.9820 - val_loss: 0.0736\n",
      "Epoch 13/30\n",
      "\u001b[1m1149/1149\u001b[0m \u001b[32m━━━━━━━━━━━━━━━━━━━━\u001b[0m\u001b[37m\u001b[0m \u001b[1m3s\u001b[0m 2ms/step - accuracy: 0.9942 - loss: 0.0181 - val_accuracy: 0.9812 - val_loss: 0.0793\n",
      "Epoch 14/30\n",
      "\u001b[1m1149/1149\u001b[0m \u001b[32m━━━━━━━━━━━━━━━━━━━━\u001b[0m\u001b[37m\u001b[0m \u001b[1m3s\u001b[0m 2ms/step - accuracy: 0.9941 - loss: 0.0177 - val_accuracy: 0.9816 - val_loss: 0.0880\n",
      "Epoch 15/30\n",
      "\u001b[1m1149/1149\u001b[0m \u001b[32m━━━━━━━━━━━━━━━━━━━━\u001b[0m\u001b[37m\u001b[0m \u001b[1m3s\u001b[0m 2ms/step - accuracy: 0.9945 - loss: 0.0159 - val_accuracy: 0.9816 - val_loss: 0.0844\n",
      "Epoch 16/30\n",
      "\u001b[1m1149/1149\u001b[0m \u001b[32m━━━━━━━━━━━━━━━━━━━━\u001b[0m\u001b[37m\u001b[0m \u001b[1m3s\u001b[0m 2ms/step - accuracy: 0.9941 - loss: 0.0175 - val_accuracy: 0.9821 - val_loss: 0.0853\n",
      "Epoch 17/30\n",
      "\u001b[1m1149/1149\u001b[0m \u001b[32m━━━━━━━━━━━━━━━━━━━━\u001b[0m\u001b[37m\u001b[0m \u001b[1m3s\u001b[0m 2ms/step - accuracy: 0.9946 - loss: 0.0157 - val_accuracy: 0.9825 - val_loss: 0.0822\n",
      "Epoch 18/30\n",
      "\u001b[1m1149/1149\u001b[0m \u001b[32m━━━━━━━━━━━━━━━━━━━━\u001b[0m\u001b[37m\u001b[0m \u001b[1m3s\u001b[0m 2ms/step - accuracy: 0.9944 - loss: 0.0145 - val_accuracy: 0.9818 - val_loss: 0.0839\n",
      "Epoch 19/30\n",
      "\u001b[1m1149/1149\u001b[0m \u001b[32m━━━━━━━━━━━━━━━━━━━━\u001b[0m\u001b[37m\u001b[0m \u001b[1m3s\u001b[0m 2ms/step - accuracy: 0.9957 - loss: 0.0136 - val_accuracy: 0.9833 - val_loss: 0.0908\n",
      "Epoch 20/30\n",
      "\u001b[1m1149/1149\u001b[0m \u001b[32m━━━━━━━━━━━━━━━━━━━━\u001b[0m\u001b[37m\u001b[0m \u001b[1m3s\u001b[0m 2ms/step - accuracy: 0.9947 - loss: 0.0176 - val_accuracy: 0.9824 - val_loss: 0.0930\n",
      "Epoch 21/30\n",
      "\u001b[1m1149/1149\u001b[0m \u001b[32m━━━━━━━━━━━━━━━━━━━━\u001b[0m\u001b[37m\u001b[0m \u001b[1m3s\u001b[0m 2ms/step - accuracy: 0.9960 - loss: 0.0120 - val_accuracy: 0.9834 - val_loss: 0.0960\n",
      "Epoch 22/30\n",
      "\u001b[1m1149/1149\u001b[0m \u001b[32m━━━━━━━━━━━━━━━━━━━━\u001b[0m\u001b[37m\u001b[0m \u001b[1m3s\u001b[0m 2ms/step - accuracy: 0.9947 - loss: 0.0135 - val_accuracy: 0.9833 - val_loss: 0.0939\n",
      "Epoch 23/30\n",
      "\u001b[1m1149/1149\u001b[0m \u001b[32m━━━━━━━━━━━━━━━━━━━━\u001b[0m\u001b[37m\u001b[0m \u001b[1m3s\u001b[0m 2ms/step - accuracy: 0.9954 - loss: 0.0147 - val_accuracy: 0.9838 - val_loss: 0.0987\n",
      "Epoch 24/30\n",
      "\u001b[1m1149/1149\u001b[0m \u001b[32m━━━━━━━━━━━━━━━━━━━━\u001b[0m\u001b[37m\u001b[0m \u001b[1m3s\u001b[0m 2ms/step - accuracy: 0.9959 - loss: 0.0130 - val_accuracy: 0.9837 - val_loss: 0.1003\n",
      "Epoch 25/30\n",
      "\u001b[1m1149/1149\u001b[0m \u001b[32m━━━━━━━━━━━━━━━━━━━━\u001b[0m\u001b[37m\u001b[0m \u001b[1m3s\u001b[0m 2ms/step - accuracy: 0.9963 - loss: 0.0103 - val_accuracy: 0.9846 - val_loss: 0.0920\n",
      "Epoch 26/30\n",
      "\u001b[1m1149/1149\u001b[0m \u001b[32m━━━━━━━━━━━━━━━━━━━━\u001b[0m\u001b[37m\u001b[0m \u001b[1m3s\u001b[0m 2ms/step - accuracy: 0.9946 - loss: 0.0142 - val_accuracy: 0.9838 - val_loss: 0.1010\n",
      "Epoch 27/30\n",
      "\u001b[1m1149/1149\u001b[0m \u001b[32m━━━━━━━━━━━━━━━━━━━━\u001b[0m\u001b[37m\u001b[0m \u001b[1m3s\u001b[0m 2ms/step - accuracy: 0.9961 - loss: 0.0117 - val_accuracy: 0.9845 - val_loss: 0.0927\n",
      "Epoch 28/30\n",
      "\u001b[1m1149/1149\u001b[0m \u001b[32m━━━━━━━━━━━━━━━━━━━━\u001b[0m\u001b[37m\u001b[0m \u001b[1m3s\u001b[0m 2ms/step - accuracy: 0.9958 - loss: 0.0126 - val_accuracy: 0.9820 - val_loss: 0.1091\n",
      "Epoch 29/30\n",
      "\u001b[1m1149/1149\u001b[0m \u001b[32m━━━━━━━━━━━━━━━━━━━━\u001b[0m\u001b[37m\u001b[0m \u001b[1m3s\u001b[0m 2ms/step - accuracy: 0.9957 - loss: 0.0132 - val_accuracy: 0.9838 - val_loss: 0.0971\n",
      "Epoch 30/30\n",
      "\u001b[1m1149/1149\u001b[0m \u001b[32m━━━━━━━━━━━━━━━━━━━━\u001b[0m\u001b[37m\u001b[0m \u001b[1m3s\u001b[0m 2ms/step - accuracy: 0.9972 - loss: 0.0091 - val_accuracy: 0.9836 - val_loss: 0.0955\n"
     ]
    },
    {
     "data": {
      "text/plain": [
       "<keras.src.callbacks.history.History at 0x7d014d88cc10>"
      ]
     },
     "execution_count": 16,
     "metadata": {},
     "output_type": "execute_result"
    }
   ],
   "source": [
    "# train the model\n",
    "model.fit(x=x_train, y=y_train, batch_size=32, epochs=30, validation_data=(x_test, y_test))"
   ]
  },
  {
   "cell_type": "markdown",
   "id": "b4024454",
   "metadata": {
    "papermill": {
     "duration": 0.316089,
     "end_time": "2024-03-24T12:17:30.450305",
     "exception": false,
     "start_time": "2024-03-24T12:17:30.134216",
     "status": "completed"
    },
    "tags": []
   },
   "source": [
    "# Testing the model"
   ]
  },
  {
   "cell_type": "code",
   "execution_count": 17,
   "id": "01de8afe",
   "metadata": {
    "execution": {
     "iopub.execute_input": "2024-03-24T12:17:30.994844Z",
     "iopub.status.busy": "2024-03-24T12:17:30.993894Z",
     "iopub.status.idle": "2024-03-24T12:17:31.718673Z",
     "shell.execute_reply": "2024-03-24T12:17:31.717766Z"
    },
    "papermill": {
     "duration": 0.99879,
     "end_time": "2024-03-24T12:17:31.720662",
     "exception": false,
     "start_time": "2024-03-24T12:17:30.721872",
     "status": "completed"
    },
    "tags": []
   },
   "outputs": [
    {
     "name": "stdout",
     "output_type": "stream",
     "text": [
      "\u001b[1m1/1\u001b[0m \u001b[32m━━━━━━━━━━━━━━━━━━━━\u001b[0m\u001b[37m\u001b[0m \u001b[1m0s\u001b[0m 416ms/step\n",
      "Predicted output: 1\n"
     ]
    },
    {
     "data": {
      "image/png": "[encoded data removed]",
      "text/plain": [
       "<Figure size 640x480 with 1 Axes>"
      ]
     },
     "metadata": {},
     "output_type": "display_data"
    }
   ],
   "source": [
    "image_index = 10\n",
    "# print(\"Original output:\",y_test[image_index])\n",
    "plt.imshow(x_test[image_index].reshape(28,28), cmap='Greys')\n",
    "pred = model.predict(x_test[image_index].reshape(1,28,28,1))\n",
    "print(\"Predicted output:\", pred.argmax())"
   ]
  },
  {
   "cell_type": "code",
   "execution_count": 18,
   "id": "4a144672",
   "metadata": {
    "execution": {
     "iopub.execute_input": "2024-03-24T12:17:32.281037Z",
     "iopub.status.busy": "2024-03-24T12:17:32.280183Z",
     "iopub.status.idle": "2024-03-24T12:17:32.605359Z",
     "shell.execute_reply": "2024-03-24T12:17:32.604443Z"
    },
    "papermill": {
     "duration": 0.611726,
     "end_time": "2024-03-24T12:17:32.607338",
     "exception": false,
     "start_time": "2024-03-24T12:17:31.995612",
     "status": "completed"
    },
    "tags": []
   },
   "outputs": [
    {
     "name": "stdout",
     "output_type": "stream",
     "text": [
      "\u001b[1m1/1\u001b[0m \u001b[32m━━━━━━━━━━━━━━━━━━━━\u001b[0m\u001b[37m\u001b[0m \u001b[1m0s\u001b[0m 18ms/step\n",
      "Predicted output: 9\n"
     ]
    },
    {
     "data": {
      "image/png": "[encoded data removed]",
      "text/plain": [
       "<Figure size 640x480 with 1 Axes>"
      ]
     },
     "metadata": {},
     "output_type": "display_data"
    }
   ],
   "source": [
    "image_index = 50\n",
    "# print(\"Original output:\",y_test[image_index])\n",
    "plt.imshow(x_test[image_index].reshape(28,28), cmap='Greys')\n",
    "pred = model.predict(x_test[image_index].reshape(1,28,28,1))\n",
    "print(\"Predicted output:\", pred.argmax())"
   ]
  }
 ],
 "metadata": {
  "kaggle": {
   "accelerator": "nvidiaTeslaT4",
   "dataSources": [
    {
     "datasetId": 4660385,
     "sourceId": 7929181,
     "sourceType": "datasetVersion"
    }
   ],
   "dockerImageVersionId": 30674,
   "isGpuEnabled": true,
   "isInternetEnabled": true,
   "language": "python",
   "sourceType": "notebook"
  },
  "kernelspec": {
   "display_name": "Python 3",
   "language": "python",
   "name": "python3"
  },
  "language_info": {
   "codemirror_mode": {
    "name": "ipython",
    "version": 3
   },
   "file_extension": ".py",
   "mimetype": "text/x-python",
   "name": "python",
   "nbconvert_exporter": "python",
   "pygments_lexer": "ipython3",
   "version": "3.10.13"
  },
  "papermill": {
   "default_parameters": {},
   "duration": 336.516388,
   "end_time": "2024-03-24T12:17:35.451563",
   "environment_variables": {},
   "exception": null,
   "input_path": "__notebook__.ipynb",
   "output_path": "__notebook__.ipynb",
   "parameters": {},
   "start_time": "2024-03-24T12:11:58.935175",
   "version": "2.5.0"
  }
 },
 "nbformat": 4,
 "nbformat_minor": 5
}
